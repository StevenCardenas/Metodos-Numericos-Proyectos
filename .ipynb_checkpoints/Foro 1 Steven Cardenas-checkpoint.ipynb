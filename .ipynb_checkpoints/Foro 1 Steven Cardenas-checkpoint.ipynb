{
 "cells": [
  {
   "cell_type": "markdown",
   "id": "b56e2722",
   "metadata": {},
   "source": [
    "# UNIVERSIDAD DE LAS FUERZAS ARMADAS ESPE\n",
    "## FORO 1- Segunda Intervención\n",
    "### Nombres: Bryan Steven Cardenas Auquilla\n",
    "### Asignatura: Métodos Numérico NRC 3657\n",
    "\n",
    "### Búsqueda de una raiz mediante dos métodos de una ecuación planteada por otro se sus compañeros. Compare los resultados obtenidos por ambos métodos\n",
    "#### La siguiente función fue planteada por el compañero Andres Cosios Pineda: $f(x)= 6x^3-2x^2+3$\n",
    "\n",
    "#### El compañero nos recomienda calcular las raíces en el intervalo [-1,0].\n",
    "* Primero, comprobamos el rango delimitado [-1,0] graficando nuestra función en jupyter:"
   ]
  },
  {
   "cell_type": "code",
   "execution_count": 28,
   "id": "7ce5350f",
   "metadata": {},
   "outputs": [
    {
     "data": {
      "image/png": "[encoded data removed]",
      "text/plain": [
       "<Figure size 432x288 with 1 Axes>"
      ]
     },
     "metadata": {
      "needs_background": "light"
     },
     "output_type": "display_data"
    }
   ],
   "source": [
    "#Importamos librerias: \n",
    "import numpy as np\n",
    "import matplotlib.pyplot as plt\n",
    "#Definimos rangos y la función:\n",
    "x=np.linspace(-2,2,500)\n",
    "fun=6*x**(3)-2*x**(2)+3\n",
    "#Establecemos los puntos de gráfica:\n",
    "ypoints= 0.0\n",
    "xpoints= 0.0\n",
    "plt.axhline(ypoints, 0, 1, )\n",
    "plt.axvline(xpoints, 0, 1, )\n",
    "#Graficamos la función y definimos etiquetas:\n",
    "plt.plot(x,fun,\"g\")\n",
    "plt.xlabel(\"Eje X\")\n",
    "plt.ylabel(\"Eje Y\")\n",
    "plt.grid()\n",
    "plt.title(\"Funcion con raiz dada\")\n",
    "\n",
    "plt.show()"
   ]
  },
  {
   "cell_type": "markdown",
   "id": "02f933e7",
   "metadata": {},
   "source": [
    "### Método de la Bisección:\n",
    "* A continuación, empezaremos aplicando el método de la bisección para determinar la raiz:"
   ]
  },
  {
   "cell_type": "code",
   "execution_count": 33,
   "id": "be9f1149",
   "metadata": {
    "scrolled": true
   },
   "outputs": [
    {
     "name": "stdout",
     "output_type": "stream",
     "text": [
      "Intervalo [ -0.75 , -0.5 ]\n",
      "Intervalo [ -0.71875 , -0.6875 ]\n",
      "Intervalo [ -0.703125 , -0.6875 ]\n",
      "Intervalo [ -0.69921875 , -0.6953125 ]\n",
      "Intervalo [ -0.697265625 , -0.6953125 ]\n",
      "Intervalo [ -0.69677734375 , -0.6962890625 ]\n",
      "Intervalo [ -0.69671630859375 , -0.6966552734375 ]\n",
      "Por lo tanto, en  7  interacciones, obtenemos el valor aproximado de la raiz:  -0.6967153549194336\n",
      "El método de bisección se ha ejecutado en:  0.00612330436706543  segundos.\n"
     ]
    }
   ],
   "source": [
    "#Importamos liberias\n",
    "import numpy as np\n",
    "import matplotlib.pyplot as plt\n",
    "from math import *\n",
    "import time\n",
    "inicio = time.time()\n",
    "#Definimos la función:\n",
    "def f(x):\n",
    "    return 6*x**(3)-2*x**(2)+3\n",
    "#Establecemos el método de la bisección: \n",
    "def bisec(a,b,tol):\n",
    "    z1=a\n",
    "    z=b\n",
    "    k=0\n",
    "    #Establecemos la condición si los valores están fuera de nuestra raiz\n",
    "    if(f(a)*f(b)>0):\n",
    "        print(\"La función no tiene raiz. Inténtelo con otra función.\")\n",
    "    #Ahora definimos el condicional while, mientras abs de (z1-z) sea menor que la tolerancia\n",
    "    while (abs(z1-z)>tol):\n",
    "        z1=z\n",
    "        z= (a+b)/2 ##Procedemos a dividir los dos intervalos\n",
    "        #Establecemos condicionales (if) para imprimir el intervalo que cumpla la condición y hallar la raiz:\n",
    "        if (f(z)*f(a)<0):\n",
    "            b=z\n",
    "        if (f(z)*f(b)<0):\n",
    "            a=z\n",
    "            print(\"Intervalo [\", a,\",\", b, \"]\")\n",
    "            k=k+1\n",
    "    print(\"Por lo tanto, en \", k ,\" interacciones, obtenemos el valor aproximado de la raiz: \",z, )\n",
    "bisec(-1,0,1e-6)\n",
    "fin = time.time()\n",
    "print(\"El método de bisección se ha ejecutado en: \",fin-inicio,\" segundos.\")\n",
    "    \n",
    "\n",
    "    \n",
    "    "
   ]
  },
  {
   "cell_type": "markdown",
   "id": "ef0456c5",
   "metadata": {},
   "source": [
    "### Método de la Secante:\n",
    "* Ahora, aplicaremos el método de la secante para determinar la raiz:"
   ]
  },
  {
   "cell_type": "code",
   "execution_count": 39,
   "id": "76069dee",
   "metadata": {},
   "outputs": [
    {
     "name": "stdout",
     "output_type": "stream",
     "text": [
      "Por lo tanto, en  8  interacciones, obtenemos el valor aproximado de la raíz:  -0.6967162461222102\n",
      "El método de bisección se ha ejecutado en:  0.0009982585906982422  segundos.\n"
     ]
    }
   ],
   "source": [
    "#Importamos liberias:\n",
    "import numpy as np\n",
    "import time\n",
    "inicio=time.time()\n",
    "#Definimos el método secante y la función:\n",
    "def sec(f,x0,x1,maxim,tol):\n",
    "    for i in range(-1,maxim):\n",
    "        #Escribimos la fórmula de este método:\n",
    "        x2=(x0*f(x1)-x1*f(x0))/(f(x1)-f(x0));\n",
    "        if abs(x2-x1)<tol:\n",
    "            print(\"Por lo tanto, en \",i,\" interacciones, obtenemos el valor aproximado de la raíz: \",x2, )\n",
    "            break\n",
    "        else:\n",
    "            x0=x1\n",
    "            x1=x2\n",
    "    return None\n",
    "f= lambda x: 6*x**(3)-2*x**(2)+3\n",
    "ri= sec(f,-1,0,20,1e-6)\n",
    "fin=time.time()\n",
    "print(\"El método de bisección se ha ejecutado en: \", fin-inicio,\" segundos.\")\n",
    "        "
   ]
  },
  {
   "cell_type": "markdown",
   "id": "8c7fc522",
   "metadata": {},
   "source": [
    "### Calculo de los errores absoluto y relativo en cada método:\n",
    "Tomando de la calculadora Geogebra el valor de la raíz como valor exacto: $x=-0.696716246134$\n",
    "#### Método de la Bisección: Valor aproximado: $x̄=-0.6967153549194336$ \n",
    "##### Error absoluto:  $|x-x̄|=|-0.696716246134-(-0.6967153549194336)|=8.9121x10^{-7}$\n",
    "##### Error relativo: $\\frac{|x-x̄|}{|x|}=\\frac{|-0.696716246134-(-0.6967153549194336)|}{|-0.696716246134|}=1.2792x10^{-6}$\n",
    "\n",
    "#### Método de la Secante: Valor aproximado: $x̄=-0.6967162461222102$\n",
    "##### Error absoluto:  $|x-x̄|=|-0.696716246134-(-0.6967162461222102)|=1,179^{-11}$\n",
    "##### Error relativo: $\\frac{|x-x̄|}{|x|}=\\frac{|-0.696716246134-(-0.6967162461222102)|}{|-0.696716246134|}=1.6922x10^{-11}$\n"
   ]
  },
  {
   "cell_type": "markdown",
   "id": "7cf08e41",
   "metadata": {},
   "source": [
    "### Conclusión:\n",
    "* En definitiva, es muy interesante conocer que existen métodos para encontrar la raíz de una función de manera rápida y eficiente. A pesar de esto, cada método tiene un margen de error y es importante determinar cuál es el más adecuado para hallar la aproximación. Así pues, escogí el método de bisección y de la secante para encontrar la raíz de la función $f(x)= 6x^3-2x^2+3$. Entonces, se concluye que estudiando los errores relativos el método de la secante tiene un menor margen de error ($1.6922x10^{-11}$) en comparación al método de la bisección ($1.2792x10^{-6}$). Esto ocurre porque el método de bisección es más lento a la hora de converger, en cambio, el método de la secante evita la complejidad de la derivada y al ser un método iterativo encuentra la aproximación de la raíz con mayor rapidez. Ahora bien, el método de bisección tiene 7 iteracciones, en contraste, al método de la secante que tiene 8 (en este caso el método de bisección tiene menos iteracciones por su convergencia). Por último, el método de bisección se ejecutó en aprox. 0.006 segundos, en oposición, el método de la secante se ejecutó en aprox. 0.001 segundos (con una mayor velocidad de ejecución el método de la secante). Por lo tanto, debido a su menor margen de error, menor tiempo de ejecución y por la rapidez de la aproximación de la raíz, determinamos que el método de la secante es más adecuado para calcular la raiz de la función propuesta.\n"
   ]
  }
 ],
 "metadata": {
  "kernelspec": {
   "display_name": "Python 3",
   "language": "python",
   "name": "python3"
  },
  "language_info": {
   "codemirror_mode": {
    "name": "ipython",
    "version": 3
   },
   "file_extension": ".py",
   "mimetype": "text/x-python",
   "name": "python",
   "nbconvert_exporter": "python",
   "pygments_lexer": "ipython3",
   "version": "3.8.8"
  }
 },
 "nbformat": 4,
 "nbformat_minor": 5
}
