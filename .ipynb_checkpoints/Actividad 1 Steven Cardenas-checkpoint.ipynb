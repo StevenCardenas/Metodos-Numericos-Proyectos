{
 "cells": [
  {
   "cell_type": "markdown",
   "id": "30c39d2f",
   "metadata": {},
   "source": [
    "  # UNIVERSIDAD DE LAS FUERZAS ARMADAS ESPE\n",
    "\n",
    "### Nombre: $\\text{Bryan Steven Cardenas Auquilla}$\n",
    "### Asignatura: $\\text{Métodos Numéricos}$\n",
    "### NRC: $\\text{3657}$\n",
    "\n",
    "## Actividad 1\n",
    "\n",
    "### 1. Cree un repositorio en GitHub para los proyectos que se desarrollarán en el semestre. El repositorio debe estar asociado a su correo institucional. Los ejercicios de la actividad deben estar en el repositorio.\n",
    "\n",
    "### 2. Desarrolle en Python un programa para calcular la inversa de matrices de dimensión 2 x 2. No olvide colocar comentarios en su programa. No busque el programa en internet.\n",
    "Vamos a calcular la inversa con la fórmula $\\displaystyle A^{-1}=\\frac{1}{|A|}\\cdot (A^{*})^t$\n",
    "* Entonces, primero ingresamos nuestra matriz de la forma $ (\\begin{array}{} a & b \\\\ c & d \\\\ \\end{array} )$"
   ]
  },
  {
   "cell_type": "code",
   "execution_count": 140,
   "id": "8e22d7b7",
   "metadata": {},
   "outputs": [
    {
     "name": "stdout",
     "output_type": "stream",
     "text": [
      "Ingrese un número para la celda a:4\n",
      "Ingrese un número para la celda b:5\n",
      "Ingrese un número para la celda c:6\n",
      "Ingrese un número para la celda d:7\n",
      "La matriz es: \n",
      "[[4. 5.]\n",
      " [6. 7.]]\n"
     ]
    }
   ],
   "source": [
    "#Primero cargamos nuestras respectivas librerias\n",
    "import numpy as np\n",
    "#La matriz es de la forma 2x2\n",
    "#Se pide la usuario que ingrese la matriz 2x2\n",
    "a = float(input(\"Ingrese un número para la celda a:\"))\n",
    "b = float(input(\"Ingrese un número para la celda b:\"))\n",
    "c = float(input(\"Ingrese un número para la celda c:\"))\n",
    "d = float(input(\"Ingrese un número para la celda d:\"))\n",
    "print(\"La matriz es: \")\n",
    "matriz = np.array([[a,b],[c,d]])\n",
    "print(matriz)"
   ]
  },
  {
   "cell_type": "markdown",
   "id": "28656776",
   "metadata": {},
   "source": [
    "* Ahora hallamos el determinante de a $|A|= (a*d)-(b*c)$\n",
    "* Además, las transpuesta de su adjunta es la siguiente: $ (A^{*})^t = (\\begin{array}{} d & -b \\\\ -c & a \\\\ \\end{array} )$\n",
    "* Por lo tanto, para hallar la inversa de la matriz A ya solo debemos dividir  la matriz anterior para el determinante. $\\displaystyle A^{-1}=\\frac{(\\begin{array}{} d & -b \\\\ -c & a \\\\ \\end{array} )}{|A|}$ = $(\\begin{array}{} \\frac{d}{|A|} & \\frac{-b}{|A|} \\\\ \\frac{-c}{|A|} & \\frac{a}{|A|} \\\\ \\end{array} )$\n"
   ]
  },
  {
   "cell_type": "code",
   "execution_count": 141,
   "id": "6c213aab",
   "metadata": {},
   "outputs": [
    {
     "name": "stdout",
     "output_type": "stream",
     "text": [
      "El determinante de la matriz A es:  -2.0\n",
      "La inversa de la matriz A es: \n",
      "[[-3.5  2.5]\n",
      " [ 3.  -2. ]]\n"
     ]
    }
   ],
   "source": [
    "#Por favor, si se ingresan nuevos valores actualizar cada parte del código, gracias.\n",
    "#Hallamos el determinandte de !A!\n",
    "determinanteA = (a*d)-(b*c)\n",
    "print(\"El determinante de la matriz A es: \",determinanteA)\n",
    "#Ahora hallamos la matriz inversa \n",
    "ai = d/determinanteA\n",
    "bi = -b/determinanteA\n",
    "ci = -c/determinanteA\n",
    "di = a/determinanteA\n",
    "invA = np.array([[ai,bi],[ci,di]])\n",
    "#Los números que terminan solo en punto es porque tienen un cero a la derecha (2. = 2.0)\n",
    "print(\"La inversa de la matriz A es: \")\n",
    "print(invA)\n"
   ]
  },
  {
   "cell_type": "markdown",
   "id": "c85013f3",
   "metadata": {},
   "source": [
    "### 3. Grafique en Python las siguientes funciones, $f(x) = x^2 - x + 1$, $g(x) =  \\frac{2x}{x-1}$ . Grafique ambas funciones en el mismo gráfico."
   ]
  },
  {
   "cell_type": "code",
   "execution_count": 157,
   "id": "2da3f340",
   "metadata": {},
   "outputs": [
    {
     "name": "stdout",
     "output_type": "stream",
     "text": [
      "La función azul es nuestra función exponencial, en cambio la función naranja es la fraccionaria que en el punto x=1 es imposible que tenga valores\n"
     ]
    },
    {
     "data": {
      "image/png": "[encoded data removed]",
      "text/plain": [
       "<Figure size 432x288 with 1 Axes>"
      ]
     },
     "metadata": {
      "needs_background": "light"
     },
     "output_type": "display_data"
    }
   ],
   "source": [
    "#Importamos matplotlib\n",
    "import matplotlib.pyplot as plt\n",
    "print(\"La función azul es nuestra función exponencial, en cambio la función naranja es la fraccionaria que en el punto x=1 es imposible que tenga valores\")\n",
    "#Establecemos el rango, dominio y la visualización de la gráfica\n",
    "x=np.linspace(-7.5,7.5,200)\n",
    "\n",
    "x1=np.linspace(-5,5,200)\n",
    "##Primera función\n",
    "fx= x**2-x+1\n",
    "gx= 2/(x1-1)\n",
    "#Graficar funciones\n",
    "#función fx\n",
    "plt.subplot(1,1,1)\n",
    "plt.plot(x,fx)\n",
    "plt.ylabel(\"y\")\n",
    "plt.xlabel(\"x\")\n",
    "plt.title(\"Gráfica de las funciones\")\n",
    "#función gx \n",
    "#plt.subplot(1,1,1)\n",
    "plt.plot(x1,gx)\n",
    "#plt.title(\"Función g(x) +\")\n",
    "plt.show()"
   ]
  },
  {
   "cell_type": "markdown",
   "id": "85121a6f",
   "metadata": {},
   "source": [
    "### 4. Sea la función $f(x)=\\sqrt{x^2+2x+1}$ calcule $f(2.045)$ (utilice una serie deTaylor).\n",
    "\n",
    " * Definimos la serie de Taylor: $f(x)=\\sum_{n=0}^{∞} {\\frac{f^{(n)}(c)}{n!}(x-c)^n}$\n",
    " * Hallar las derivadas de la función y evaluar cerda del punto dado $f(2.045)$ que se aproxima a f(2):\n",
    " * $f(x)=\\sqrt{x^2+2x+1}$   ------->f(2)=9\n",
    " * Primera derivada: $f'(x)=\\frac{1}{2 \\sqrt{x^2+2x+1}} (2x+2)$ = $f'(x)=\\frac{x+1}{\\sqrt{x^2+2x+1}}$    ------->f(2)=1\n",
    " * Tercera derivada: $f'''(x)=\\sqrt{x^2+2x+1}-(x+1) \\frac{1}{\\sqrt{x^2+2x+1}} (2x+2)$\n",
    " * Simplifico la expresión: $f'''(x)=\\frac{x^2+2x+1-x^2-2x-1}{\\frac{\\sqrt{x^2+2x+1}}{x^2+2x+1}}$=0     ------->f(2)=0 \n",
    "* Por lo tanto, al sustitiur en la serie de Taylor $f(x)= f(0) + \\frac{f'(0)}{1!}(x-x_0) + \\frac{f''(0)}{2!} (x-x_0)^2 + \\frac{f'''(0)}{3!} (x-x_0)^3+...+ \\frac{f^n(0)}{n!} (x-x_0)^n= 3054$ así nos da una igualdad entre f(x) y la serie de Taylor, entonces como resulta en 0=0 no tiene error."
   ]
  },
  {
   "cell_type": "markdown",
   "id": "051d0558",
   "metadata": {},
   "source": [
    "### 5. Calcule el error relativo, error absoluto, el error porcentual y las cifras significativas para los siguientes casos:\n",
    "### x = 0.005429, ~x = 0.00543\n",
    "* Error absoluto:\n",
    "    Error absoluto = |0.005429-0.00543| = 0.000001             ------> 1 cifra significativa\n",
    "\n",
    "* Error relativo:\n",
    "    Error relativo = $\\frac{|0.005429-0.00543|}{0.005429} = 0,0001841$           ------> 4 cifras significativas\n",
    "* Error porcentual:\n",
    "    Error porcentual =  0,0001841 x 100 = 0,1841 %        ------> 4 cifras significativas\n",
    "\n",
    "### x = 189.3478, ~x = 18.93478\n",
    "\n",
    "* Error absoluto:\n",
    "    Error absoluto = |189.3478-18.93478| = 170.41302         ------> 8 cifras significativas\n",
    "* Error relativo:\n",
    "    Error relativo = $\\frac{|189.3478-18.93478|}{189.3478-18}$ = 0.9       ------> 1 cifra significativa\n",
    "* Error porcentual:\n",
    "    Error porcentual =  0,9 x 100 = 90 %     ------> 1 cifra significativa(sin contar el 0)\n",
    "\n",
    "### x0 = 4.367, x1 = 4.3689\n",
    "Como tenemos x(i) y x(i-1) deducimos que no disponemos del valor exacto, entonces calculmos un error aproximado.\n",
    "\n",
    "   Error aproximado= $\\frac{|4.3689-4.367|}{4.3689} x 100$=0,043489    ------> 5 cifras significativas"
   ]
  },
  {
   "cell_type": "markdown",
   "id": "ee508d74",
   "metadata": {},
   "source": [
    "### 6. Diseñe un código que encuentre el sen(π/3) a través del desarrollo de Taylor, truncar cuando n = 50.\n",
    "* Definimos la serie de Taylor: $f(x)=\\sum_{n=0}^{∞} {\\frac{f^{(n)}(c)}{n!}(x-c)^n}$\n",
    "* Desarrollamos la serie: $f(x)= f(0) + \\frac{f'(0)}{1!} x + \\frac{f''(0)}{2!} x^2 + \\frac{f'''(0)}{3!} x^3$+...\n",
    "$$\\begin{array}{aa}\n",
    "f^{k}(x_0) &&&& f^k (0) \\\\\n",
    "f(x)=\\sin(x) &&&& f(0)=0 \\\\\n",
    "f'(x)=\\cos(x) &&&& f'(0)=1 \\\\\n",
    "f''(x)=-\\sin(x) &&&& f''(0)=0 \\\\\n",
    "f'''(x)=\\sin(x) &&&& f'''(0)=0 \\\\\n",
    "\\end{array}$$\n",
    "* Modelamos la función para aplicar: $f(x)=\\sum_{k=1}^{n} (-1)^{k+1} \\frac{x^{2k-1}}{(2k-1)!}$\n",
    "Reemplazando, $f(π/3)= \\frac{π}{3} - \\frac{(π/3)^3}{3!} + \\frac{(π/3)^5}{5!} +....+ \\frac{(π/3)^n}{n!}$\n",
    "* Así hasta realizar la aproximación en n=50: $sen(π/3)=0.866025403$ aproximado de 0.8662952838"
   ]
  },
  {
   "cell_type": "code",
   "execution_count": 158,
   "id": "1196708a",
   "metadata": {},
   "outputs": [
    {
     "name": "stdout",
     "output_type": "stream",
     "text": [
      "Datos iniciales: x=π/3, n=50. \n",
      "(n)      (Polinomio)\n",
      " 0      1.0471975511965976\n",
      " 1      0.8558007815651173\n",
      " 2      0.8662952837868347\n",
      " 3      0.8660212716563725\n",
      " 4      0.8660254450997811\n",
      " 5      0.8660254034934827\n",
      " 6      0.8660254037859597\n",
      " 7      0.8660254037844324\n",
      " 8      0.8660254037844385\n",
      " 9      0.8660254037844385\n",
      " 10      0.8660254037844385\n",
      " 11      0.8660254037844385\n",
      " 12      0.8660254037844385\n",
      " 13      0.8660254037844385\n",
      " 14      0.8660254037844385\n",
      " 15      0.8660254037844385\n",
      " 16      0.8660254037844385\n",
      " 17      0.8660254037844385\n",
      " 18      0.8660254037844385\n",
      " 19      0.8660254037844385\n",
      " 20      0.8660254037844385\n",
      " 21      0.8660254037844385\n",
      " 22      0.8660254037844385\n",
      " 23      0.8660254037844385\n",
      " 24      0.8660254037844385\n",
      " 25      0.8660254037844385\n",
      " 26      0.8660254037844385\n",
      " 27      0.8660254037844385\n",
      " 28      0.8660254037844385\n",
      " 29      0.8660254037844385\n",
      " 30      0.8660254037844385\n",
      " 31      0.8660254037844385\n",
      " 32      0.8660254037844385\n",
      " 33      0.8660254037844385\n",
      " 34      0.8660254037844385\n",
      " 35      0.8660254037844385\n",
      " 36      0.8660254037844385\n",
      " 37      0.8660254037844385\n",
      " 38      0.8660254037844385\n",
      " 39      0.8660254037844385\n",
      " 40      0.8660254037844385\n",
      " 41      0.8660254037844385\n",
      " 42      0.8660254037844385\n",
      " 43      0.8660254037844385\n",
      " 44      0.8660254037844385\n",
      " 45      0.8660254037844385\n",
      " 46      0.8660254037844385\n",
      " 47      0.8660254037844385\n",
      " 48      0.8660254037844385\n",
      " 49      0.8660254037844385\n",
      " 50      0.8660254037844385\n"
     ]
    }
   ],
   "source": [
    "#Importamos libreria\n",
    "import numpy as pn\n",
    "print(\"Datos iniciales: x=π/3, n=50. \")\n",
    "xdato=pn.pi/3\n",
    "n=51\n",
    "pol=0\n",
    "print(\"(n)      (Polinomio)\")\n",
    "#Reemplazamos en la fórmula modelada los datos truncando cuando n=50 \n",
    "#Funcion modelada pol = pol + (-1)**k*xdato**(2*k+1) / pn.math.factorial(2*k+1)\n",
    "#Aplicamos la función modelada a un laso for para repetir hasta que n=50\n",
    "for k in range(n):\n",
    "    pol = pol + (-1)**k*xdato**(2*k+1) / pn.math.factorial(2*k+1)\n",
    "    print(\"\",k,\"    \",pol)\n",
    "    \n",
    "    "
   ]
  }
 ],
 "metadata": {
  "kernelspec": {
   "display_name": "Python 3",
   "language": "python",
   "name": "python3"
  },
  "language_info": {
   "codemirror_mode": {
    "name": "ipython",
    "version": 3
   },
   "file_extension": ".py",
   "mimetype": "text/x-python",
   "name": "python",
   "nbconvert_exporter": "python",
   "pygments_lexer": "ipython3",
   "version": "3.8.8"
  }
 },
 "nbformat": 4,
 "nbformat_minor": 5
}
