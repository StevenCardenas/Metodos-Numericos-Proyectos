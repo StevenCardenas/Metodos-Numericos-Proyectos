{
 "cells": [
  {
   "cell_type": "markdown",
   "id": "dc39922c",
   "metadata": {},
   "source": [
    "# Actividad 3\n",
    "## Nombres y apellidos: $\\text{Bryan Steven Cardenas Auquilla}$\n",
    "## NRC: $\\text{Métodos numéricos NRC 3657}$\n"
   ]
  },
  {
   "attachments": {
    "image.png": {
     "image/png": "[encoded data removed]"
    }
   },
   "cell_type": "markdown",
   "id": "c3343da9",
   "metadata": {},
   "source": [
    "### 1. Para el sistema lineal. Encuentre los valores de x1, x2, x3, x4 utilizando sustitución progresiva. Encuentre la descomposición LU del sistema anterior. ¿Qué puede concluir?\n",
    "![image.png](attachment:image.png)\n"
   ]
  },
  {
   "cell_type": "markdown",
   "id": "fc402325",
   "metadata": {},
   "source": [
    "#### Escribimos el sistema lineal:\n",
    "$$\\left\\{\\begin{align}\n",
    "6x_1 & =12 \\\\\n",
    "6x_2+3x_1 &=-12 \\\\\n",
    "7x_3-2x_2+4x_1 &=14 \\\\\n",
    "21x_4+9x_3-3x_2+5x_1 &=-2\n",
    "\\end{align}\\right.$$\n",
    "\n",
    "#### Hallar x1,x2,x3 y x4 empleando sustitución progresiva\n",
    "* En la primera ecuación encontramos x1:\n",
    "\n",
    "#### $6x1=12    =>   x1=2$\n",
    "* Hallar x2 mediante x1:\n",
    "\n",
    "#### $6x2+3x1=-12$\n",
    "#### $x2=\\frac{-12-6}{5}=-3$\n",
    "* Hallar x3 mediante el valor de x1 y x2:\n",
    "\n",
    "#### $7x3-2x2+4x1=14$\n",
    "#### $x3=\\frac{14-8-6}{7}=0$\n",
    "* Hallar x4 con los valores conocidos:\n",
    "\n",
    "#### $x4=\\frac{-2-5(2)+3(-3)-9(0)}{2}=-1$\n",
    "#### Escribir en forma matricial AX=b\n",
    "$$\\left(\\begin{array}{cccc} 6 & 0 & 0 & 0 \\\\ 3 & 6 & 0 & 0 \\\\ 4 & 2 & 7 & 0 \\\\ 5 & -3 & 9 & 21\\end{array}\\right)\n",
    "\\left(\\begin{array}{c}x_1\\\\x_2\\\\x_3\\\\x_4\\end{array}\\right)=\n",
    "\\left(\\begin{array}{c}12\\\\-12\\\\14\\\\-2\\end{array}\\right)$$\n",
    "\n",
    "#### Ahora procedemos a resolver empleando un algoritmo en Python:\n"
   ]
  },
  {
   "cell_type": "code",
   "execution_count": 3,
   "id": "4265d5ae",
   "metadata": {},
   "outputs": [
    {
     "name": "stdout",
     "output_type": "stream",
     "text": [
      "[ 2. -3.  0. -1.]\n"
     ]
    }
   ],
   "source": [
    "#Primero importamos librerias\n",
    "import numpy as np\n",
    "#Planteamos la matriz del sistema:\n",
    "A=np.array([[6,0,0,0],[3,6,0,0],[4,-2,7,0],[5,-3,9,21]])\n",
    "#Ahora escribimos nuestros términos independientes:\n",
    "b=np.array([12,-12,14,-2])\n",
    "#Hallar el número de ecuaciones:\n",
    "n=np.size(b)\n",
    "#Planteamos un vector que almacene la solución:\n",
    "x=np.zeros(n)\n",
    "#APLICAMOS LA SUSTITUCIÓN PROGRESIVA:\n",
    "for i in range (n):\n",
    "    sumj=0\n",
    "    for j in range (i):\n",
    "        sumj+=A[i,j]*x[j]\n",
    "    x[i]=(b[i]-sumj)*1/A[i,i]\n",
    "print(x)"
   ]
  },
  {
   "cell_type": "markdown",
   "id": "9b572279",
   "metadata": {},
   "source": [
    "#### Comprobamos así que x1=2 ; x2=-3 ; x3=0 ; x4=-1\n",
    "### Descomposicón LU:\n",
    "#### L= Matriz triangular inferior, U=Matriz triangular superior => A=LU\n",
    "\n",
    "$$\\left(\\begin{array}{cccc} 6 & 0 & 0 & 0 \\\\ 3 & 6 & 0 & 0 \\\\ 4 & 2 & 7 & 0 \\\\ 5 & -3 & 9 & 21\\end{array}\\right)\n",
    "=LU$$\n",
    "#### Nuestra Matriz A es una matriz diagonal inferior, por lo tanto equivale a L. Entonces, A=L. \n",
    "#### $A=LU$\n",
    "#### $L=LU$\n",
    "#### $L*L^{-1}=U$ Sabiendo que L por L elevado a la -1 es igual a una matriz identidad\n",
    "#### $I=U$\n",
    "#### $L=LU$\n",
    "#### Comprobamos realizando la multiplicación:\n",
    "$$\\left(\\begin{array}{cccc} 6 & 0 & 0 & 0 \\\\ 3 & 6 & 0 & 0 \\\\ 4 & 2 & 7 & 0 \\\\ 5 & -3 & 9 & 21\\end{array}\\right) *\n",
    "\\left(\\begin{array}{cccc} 1 & 0 & 0 & 0 \\\\ 0 & 1 & 0 & 0 \\\\ 0 & 0 & 1 & 0 \\\\ 0 & 0 & 0 & 1\\end{array}\\right)\n",
    "$$\n",
    "#### De esta manera comprobamos que U=I, entonces U es igual a una matriz identidad.\n",
    "#### En conclusión, para que se cumpla la descomposición LU en este caso U es igual a una matriz identindad (I). Es así como para que se cumpla A=LU, se debe multiplicar L por una matriz identidad I: A=LI.\n"
   ]
  },
  {
   "attachments": {
    "image.png": {
     "image/png": "[encoded data removed]"
    }
   },
   "cell_type": "markdown",
   "id": "29f3d29e",
   "metadata": {},
   "source": [
    "### 2. Resuelva las siguientes matrices usando la descomposición de Cholesky. Analice el caso y escriba sus conclusiones.\n",
    "![image.png](attachment:image.png)\n"
   ]
  },
  {
   "cell_type": "markdown",
   "id": "64c637cd",
   "metadata": {},
   "source": [
    "#### Escribimos nuestras matrices A y B.\n",
    "$$A=\\left(\\begin{array}{ccc} 4 & 6 & 10\\\\6 & 25 & 19\\\\10 & 19 & 62 \\end{array}\\right)$$\n",
    "$$B=\\left(\\begin{array}{ccc} 4 & 6 & 10\\\\6 & 3 & 19\\\\10 & 19 & 62 \\end{array}\\right)$$\n",
    "\n",
    "* Vamos a  comprobar que A es simétrica y está definida positivamente:\n",
    "\n",
    "#### Si A es simétrica: $A=A^{T}$\n",
    "$$\\left(\\begin{array}{ccc} 4&6&10\\\\6&25&19\\\\10&19&62 \\end{array}\\right)=\\left(\\begin{array}{ccc} 4&6&10\\\\6&25&\n",
    "19\\\\10&19&62 \\end{array}\\right)$$\n",
    "#### Vamos a comprobar si A está definida positivamente. \n",
    "#### Hallamos los determinantes de las submatrices de A:\n",
    "#### Primer menor principal :\n",
    "$$A1=\\left|\\begin{array}{c} 4 \\end{array}\\right|= 4 > 0$$\n",
    "#### Segundo menor principal:\n",
    "$$A2=\\left|\\begin{array}{cc} 4 & 6\\\\6 & 25 \\end{array}\\right|=100-36 = 64 > 0 $$\n",
    "#### Tercer menor principal:\n",
    "$$A_3=\\left|\\begin{array}{ccc} 4 & 6 & 10\\\\6 & 25 & 19\\\\10 & 19 & 62 \\end{array}\\right|=4756-1092-1360=2304 > 0 $$\n",
    "#### Así comprobamos que A es simétricia y está definida positivamente, por lo tanto podemos emplear el método de descomposición de Cholesky.\n",
    "* Usamos la descomposición de Cholesky\n",
    "\n",
    "####  Escribimos el método$[U]=[L]^{T}$\n",
    "$$A=LU=LL^{T}$$\n",
    "#### Reemplezamos valores:\n",
    "$$\\left(\\begin{array}{ccc} 4 & 6 & 10\\\\6 & 25 & 19\\\\10 & 19 & 62 \\end{array}\\right)=\n",
    "\\left(\\begin{array}{ccc} l_{11}& 0 & 0\\\\l_{21}&l_{22}&0\\\\l_{31}&l_{32}&l_{33} \\end{array}\\right)\n",
    "\\left(\\begin{array}{ccc} l_{11} & l_{21}&l_{31}\\\\0&l_{22}&l_{32}\\\\0 & 0 &l_{33} \\end{array}\\right)$$\n",
    "#### Multiplicamos:\n",
    "$$\\left(\\begin{array}{ccc} 4&6&10\\\\6&25&19\\\\10&19&62 \\end{array}\\right)=\\left(\\begin{array}{ccc} l_{11}^{2}&l_{11}\n",
    "l_{21}&l_{11}l_{31}\\\\l_{11}l_{21}&l_{21}^{2}+l_{22}^{2}&l_{21}l_{31}+l_{22}l_{32}\\\\l_{11}l_{31}&l_{31}l_{21}+l_{32}\n",
    "l_{22}&l_{31}^{2}+l_{32}^{2}+l_{33}^{2} \\end{array}\\right)$$\n",
    "#### Vamos a igualar cada elemento en cada fila:\n",
    "#### F1::\n",
    "$$\\begin{align}l_{11}^{2}=4 && \\mbox{entonces}\\ &&\n",
    "l_{11}=2\\end{align}$$\n",
    "$$\\begin{align}l_{11}l_{21}=6 && \\mbox{entonces}\\ && l_{21}=3\\end{align}$$\n",
    "$$\\begin{align}l_{11}l_{31}=10 && \\mbox{entonces}\\ && l_{31}=5\\end{align}$$\n",
    "#### F2::\n",
    "$$\\begin{align}l_{21}^{2}l_{22}^{2}=25 && \\mbox{entonces}\\ && l_{22}=4\\end{align}$$\n",
    "$$\\begin{align}l_{21}l_{31}+l_{22}l_{32}=19 && \\mbox{entonces}\\ && l_{32}=1\\end{align}$$\n",
    "#### F3::\n",
    "$$\\begin{align}l_{31}^{2}+l_{32}^{2}+l_{33}^{2}=62 && \\mbox{entonces}\\ && l_{33}=6\\end{align}$$\n",
    "#### Entonces, tenemos que la matriz L es la siguiente::\n",
    "$$L=\\left(\\begin{array}{ccc} 2&0&0\\\\3&4&0\\\\5&1&6 \\end{array}\\right)$$\n",
    "#### En definitiva, la descomposición de Cholesky en A es la siguiente:\n",
    "$$\\left(\\begin{array}{ccc} 4 & 6 & 10\\\\6 & 25 & 19\\\\10 & 19 & 62 \\end{array}\\right)=\n",
    "\\left(\\begin{array}{ccc} 2 & 0 & 0\\\\3 & 4 & 0\\\\5 & 1 & 6 \\end{array}\\right)\n",
    "\\left(\\begin{array}{ccc} 2 & 3 & 5\\\\0 & 4 & 1\\\\0 & 0 & 6 \\end{array}\\right)$$\n",
    "* Vamos a comprobar si B es simétrica y está definida positivamente:\n",
    "\n",
    "#### Si B es simétrica: $B=B^{T}$\n",
    "$$\\left(\\begin{array}{ccc} 4&6&10\\\\6&3&19\\\\10&19&62 \\end{array}\\right)=\\left(\\begin{array}{ccc} 4&6&10\\\\6&3&\n",
    "19\\\\10&19&62 \\end{array}\\right)$$\n",
    "#### Comprobamos si B es definida positiva:\n",
    "#### Hallamos los determinantes de las submatrices de B:\n",
    "#### Primer menor principal:\n",
    "$$A1=\\left|\\begin{array}{c} 4 \\end{array}\\right|= 4 > 0$$\n",
    "#### Segundo menor principal:\n",
    "$$A2=\\left|\\begin{array}{cc} 4 & 6\\\\6 & 3 \\end{array}\\right|=12-36 = -24 < 0 $$\n",
    "#### Tercer menor principal:\n",
    "$$A_3=\\left|\\begin{array}{ccc} 4 & 6 & 10\\\\6 & 3 & 19\\\\10 & 19 & 62 \\end{array}\\right|=-700-1092+840=-952 < 0 $$\n",
    "#### A pesar de que B es simétrica, no está definida positiva. Por lo tanto, no podemos aplicar la descomposición de Cholesky. \n",
    "#### Procedemos a comprobar la resolución de Amediante código en Python: "
   ]
  },
  {
   "cell_type": "code",
   "execution_count": 11,
   "id": "2b4b3a6a",
   "metadata": {},
   "outputs": [
    {
     "name": "stdout",
     "output_type": "stream",
     "text": [
      "[[2. 0. 0.]\n",
      " [3. 4. 0.]\n",
      " [5. 1. 6.]]\n"
     ]
    }
   ],
   "source": [
    "#Primero importamos librerías: \n",
    "import numpy as np\n",
    "#Ahora definimos la descomposición de Cholesky\n",
    "def cholesky(A):\n",
    "     A=np.array(A,float)\n",
    "     L=np.zeros_like(A)\n",
    "     n,_=np.shape(A)\n",
    "     for j in range (n):\n",
    "         for i in range(j,n):\n",
    "             if i==j:\n",
    "                 L[i,j]=np.sqrt(A[i,j]-np.sum(L[i,:j]**2))\n",
    "             else:\n",
    "                 L[i,j]=(A[i,j]-np.sum(L[i,:j]*L[j,:j]))/L[j,j]\n",
    "     return L\n",
    "#Ingresamos la matriz A\n",
    "A=[[4,6,10],[6,25,19],[10,19,62]]\n",
    "l=cholesky(A)\n",
    "#Imrprimimos el resultado\n",
    "print(l)"
   ]
  },
  {
   "cell_type": "markdown",
   "id": "dc8612ed",
   "metadata": {},
   "source": [
    "#### Así mediante el programa comprobamos que la descomposicón de A es correcta. Además, si ingresamos la matriz B nos dará un error debido a que no se puede usar este método.\n",
    "#### En conclusión, en la matriz A si podemos usar la descomposición de Cholesky porque es simétrica y está definida positiva. Ahora bien, en la matriz B no podemos hacer la descomposición de Cholesky porque es simétrica, pero no está definida positiva. Además, la descomposición de Cholesky es mucho más rápida que la descomposición LU para las matrices que lo permitan. "
   ]
  },
  {
   "attachments": {
    "image.png": {
     "image/png": "[encoded data removed]"
    }
   },
   "cell_type": "markdown",
   "id": "0aac2ccf",
   "metadata": {},
   "source": [
    "### 3. Utilice el método de Jacobi, Gauss-Seidel y SOR (ω = 1.1) para resolver el siguiente sistema lineal con una precisión de cuatro cifras decimales.\n",
    "![image.png](attachment:image.png)\n",
    "#### Compare el número de iteraciones necesario en cada algoritmo. Analice el error cometido si la solución exacta es $x = (1, −1, 1, −1)^T$\n"
   ]
  },
  {
   "cell_type": "markdown",
   "id": "a70a6afc",
   "metadata": {},
   "source": [
    "* Primero planteamos la matriz:\n",
    "\n",
    "$$\\left(\\begin{array}{cccc} 7 & 1 & -1 & 2 \\\\ 1 & 8 & 0 & -2 \\\\ -1 & 0 & 4 & -1 \\\\ 2 & -2 & -1 & 6\\end{array}\\right)\n",
    "\\left(\\begin{array}{c}x_1\\\\x_2\\\\x_3\\\\x_4\\end{array}\\right)=\n",
    "\\left(\\begin{array}{c}3\\\\-5\\\\4\\\\-3\\end{array}\\right)$$\n",
    "### Método de Jacobi\n",
    "\n",
    "#### Escribimos un vector inicial: $$x^{{0}}$$\n",
    "\n",
    "$$x^{{0}}=\\left(\\begin{array}{cccc} 0 & 0 & 0 & 0\\end{array}\\right)$$\n",
    "#### Para el método de Jacobi usaremos la siguiente fórmula: \n",
    "$$x^{k}=D^{-1}(L+U)x^{(k-1)}+D^{-1}b$$\n",
    "#### Plateamos nuestras matrices:\n",
    "|Matriz diagonal |Matriz triangular inferior|Matriz triangular superior|\n",
    "|:---|:----|:----:|\n",
    "|$$D=\\left(\\begin{array}{cccc} 7 & 0 & 0 & 0 \\\\ 0 & 8 & 0 & 0 \\\\ 0 & 0 & 4 & 0 \\\\ 0 & 0 & 0 & 6\\end{array}\\right)$$|$$L=\\left(\\begin{array}{cccc} 0 & 0 & 0 & 0 \\\\ -1 & 0 & 0 & 0 \\\\ 1 & 0 & 0 & 0 \\\\ -2 & 2 & 1 & 0\\end{array}\\right)$$|$$U=\\left(\\begin{array}{cccc} 0 & -1 & 1 & -2 \\\\ 0 & 0 & 0 & 2 \\\\ 0 & 0 & 0 & 1 \\\\ 0 & 0 & 0 & 0\\end{array}\\right)$$|\n",
    "\n",
    "#### Realizamos la matriz diagonal inversa:\n",
    "$$D^{-1}=\\left(\\begin{array}{cccc}\\frac{1}{7}& 0 & 0 & 0 \\\\ 0 &\\frac{1}{8}& 0 & 0 \\\\ 0 & 0 &\\frac{1}{4}& 0 \\\\ 0 & 0 & 0 & \\frac{1}{6}\\end{array}\\right)$$\n",
    "#### Escribimos L+U:\n",
    "$$L+U=\\left(\\begin{array}{cccc} 0 & 1 & 1 & -2 \\\\ -1 & 0 & 0 & 2 \\\\ 1 & 0 & 0 & 1 \\\\ -2 & 2 & 1 & 0\\end{array}\\right)$$\n",
    "#### Encontrar $D^{-1}(L+U)$: \n",
    "$$D^{-1}(L+U)=\\left(\\begin{array}{cccc} 0 & 1 & 1 & -2 \\\\ -1 & 0 & 0 & 2 \\\\ 1 & 0 & 0 & 1 \\\\ -2 & 2 & 1 & 0\\end{array}\\right)\n",
    "\\left(\\begin{array}{cccc}\\frac{1}{7}& 0 & 0 & 0 \\\\ 0 &\\frac{1}{8}& 0 & 0 \\\\ 0 & 0 &\\frac{1}{4}& 0 \\\\ 0 & 0 & 0 & \\frac{1}{6}\\end{array}\\right)=\\left(\\begin{array}{cccc} 0 & -0.1429 & 0.1429 & -0.2857 \\\\ -0.125 & 0 & 0 & 0.25 \\\\ 0.25 & 0 & 0 & 0.25 \\\\ -0.3333 & 0.3333 & 0.1667 & 0\\end{array}\\right)$$\n",
    "#### Encontrar $D^{-1}b$:\n",
    "$$D^{-1}b=\\left(\\begin{array}{c}0.4286\\\\-0.625\\\\1\\\\-0.5 \\end{array}\\right)$$\n",
    "#### Programamos para calcular cada parte de la fórmula de Jacobi:$$x^{k}=D^{-1}(L+U)x^{(k-1)}+D^{-1}b$$"
   ]
  },
  {
   "cell_type": "code",
   "execution_count": 26,
   "id": "dec8581a",
   "metadata": {},
   "outputs": [
    {
     "name": "stdout",
     "output_type": "stream",
     "text": [
      "Imprimimos L+U\n",
      "[[ 0. -1.  1. -2.]\n",
      " [-1.  0.  0.  2.]\n",
      " [ 1.  0.  0.  1.]\n",
      " [-2.  2.  1.  0.]]\n",
      "Imprimimos D inversa*(L+U)\n",
      "[[ 0.     -0.1429  0.1429 -0.2857]\n",
      " [-0.125   0.      0.      0.25  ]\n",
      " [ 0.25    0.      0.      0.25  ]\n",
      " [-0.3333  0.3333  0.1667  0.    ]]\n",
      "Imprimir D inversa*b\n",
      "[ 0.4286 -0.625   1.     -0.5   ]\n",
      "  0 Vector inicial:  [0. 0. 0. 0.]\n",
      "Imprimimos el resultado de la iteraciones mediante el método de Jacobi: \n",
      "  1 La interaciones es:  [ 0.4286 -0.625   1.     -0.5   ]\n",
      "  2 La interaciones es:  [ 0.8036 -0.8036  0.9821 -0.6845]\n",
      "  3 La interaciones es:  [ 0.8793 -0.8966  1.0298 -0.872 ]\n",
      "  4 La interaciones es:  [ 0.9529 -0.9529  1.0018 -0.9203]\n",
      "  5 La interaciones es:  [ 0.9708 -0.9742  1.0081 -0.9683]\n",
      "  6 La interaciones es:  [ 0.9884 -0.9884  1.0006 -0.9803]\n",
      "  7 La interaciones es:  [ 0.9928 -0.9936  1.002  -0.9922]\n",
      "  8 La interaciones es:  [ 0.9971 -0.9971  1.0002 -0.9951]\n",
      "  9 La interaciones es:  [ 0.9982 -0.9984  1.0005 -0.9981]\n",
      "  10 La interaciones es:  [ 0.9993 -0.9993  1.     -0.9988]\n",
      "  11 La interaciones es:  [ 0.9996 -0.9996  1.0001 -0.9995]\n",
      "  12 La interaciones es:  [ 0.9998 -0.9998  1.     -0.9997]\n",
      "  13 La interaciones es:  [ 0.9999 -0.9999  1.     -0.9999]\n",
      "  14 La interaciones es:  [ 1.     -1.      1.     -0.9999]\n",
      "  15 La interaciones es:  [ 1. -1.  1. -1.]\n"
     ]
    }
   ],
   "source": [
    "#Importamos librerias:\n",
    "import numpy as np\n",
    "#Escribimos la matriz A y B:\n",
    "A=np.array([[7,1,-1,2],[1,8,0,-2],[-1,0,4,-1],[2,-2,-1,6]])\n",
    "b=np.array([3,-5,4,-3])\n",
    "k=15\n",
    "#Escribimos para ver el tamaño de la matriz:\n",
    "n=A.shape[1]\n",
    "#Escribimos la matriz identidad:\n",
    "D=np.eye(n)\n",
    "#Planteamos la matriz diagonal:\n",
    "D[np.arange(n),np.arange(n)]=A[np.arange(n),np.arange(n)]\n",
    "LU=D-A\n",
    "#Escribimos la matriz superior e inferior.\n",
    "L=np.tril(LU)\n",
    "U=np.triu(LU)\n",
    "#Escribimos y calculamos L+U(L_U)\n",
    "L_U=L+U\n",
    "print(\"Imprimimos L+U\")\n",
    "print(L_U)\n",
    "#Encontramos la matriz invertida de D\n",
    "D_inv=np.linalg.inv(D)\n",
    "#Multriplica la inversa de D por (l+U)\n",
    "R=np.dot(D_inv,L_U)\n",
    "print(\"Imprimimos D inversa*(L+U)\")\n",
    "print(R.round(decimals=4))\n",
    "#Ahora multriplicamos D inversa por b:\n",
    "T=np.dot(D_inv,b)#con 4 decimales\n",
    "print(\"Imprimir D inversa*b\")\n",
    "print(T.round(decimals=4))#comando imprime 4 decimales\n",
    "#Imprimimos una x y un vector para almacenar la respuesta:\n",
    "X=np.zeros(n)\n",
    "print(\" \",0,\"Vector inicial: \",X)\n",
    "#Creamos un for para las interaciones:\n",
    "print(\"Imprimimos el resultado de la iteraciones mediante el método de Jacobi: \")\n",
    "\n",
    "for i in range(k):\n",
    "    D_inv=np.linalg.inv(D)\n",
    "    #Escribimos nuestra fórmula de Jacobi\n",
    "    X=np.dot(np.dot(D_inv,L_U),X)+np.dot(D_inv,b)\n",
    "    \n",
    "    print(\" \",i+1,\"La interaciones es: \",X.round(decimals=4))\n",
    "#print(Matriz diagonal)\n",
    "#print(D)"
   ]
  },
  {
   "cell_type": "markdown",
   "id": "0b565d1b",
   "metadata": {},
   "source": [
    "### A la 15va interación logramos obtener la respuesta $x = (1, −1, 1, −1)^T$"
   ]
  },
  {
   "cell_type": "markdown",
   "id": "b53d5201",
   "metadata": {},
   "source": [
    "### Método de Gauss-Seidel\n",
    "#### Reescribimos en la forma Ax=b\n",
    "$$\\left(\\begin{array}{cccc} 7 & 1 & -1 & 2 \\\\ 1 & 8 & 0 & -2 \\\\ -1 & 0 & 4 & -1 \\\\ 2 & -2 & -1 & 6\\end{array}\\right)\n",
    "\\left(\\begin{array}{c}x_1\\\\x_2\\\\x_3\\\\x_4\\end{array}\\right)=\n",
    "\\left(\\begin{array}{c}3\\\\-5\\\\4\\\\-3\\end{array}\\right)$$\n",
    "#### Escribimos la fórmula: $$x^{k}=(D-L)^{-1}Ux^{(k-1)}+(D-L)^{-1}b$$\n",
    "#### Plateamos nuestras matrices:\n",
    "|Matriz diagonal |Matriz triangular inferior|Matriz triangular superior|\n",
    "|:---|:----|:----:|\n",
    "|$$D=\\left(\\begin{array}{cccc} 7 & 0 & 0 & 0 \\\\ 0 & 8 & 0 & 0 \\\\ 0 & 0 & 4 & 0 \\\\ 0 & 0 & 0 & 6\\end{array}\\right)$$|$$L=\\left(\\begin{array}{cccc} 0 & 0 & 0 & 0 \\\\ -1 & 0 & 0 & 0 \\\\ 1 & 0 & 0 & 0 \\\\ -2 & 2 & 1 & 0\\end{array}\\right)$$|$$U=\\left(\\begin{array}{cccc} 0 & -1 & 1 & -2 \\\\ 0 & 0 & 0 & 2 \\\\ 0 & 0 & 0 & 1 \\\\ 0 & 0 & 0 & 0\\end{array}\\right)$$|\n",
    "\n",
    "#### Multiplicamos $$(D-L)^{-1}Ux^{(k-1)}$$\n",
    "$$(D-L)^{-1}Ux^{(k-1)}=\\left(\\begin{array}{cccc} 0 & -0.1429 & 0.1429 & -0.2857 \\\\ 0 & 0.0179 & -0.0179 & 0.2857 \\\\ 0 & -0.0357 & 0.0357 & 0.1786 \\\\ 0 & 0.0476 & -0.0476 & 0.2202\\end{array}\\right)*\n",
    "\\left(\\begin{array}{c}x_1\\\\x_2\\\\x_3\\\\x_4\\end{array}\\right)=\n",
    "\\left(\\begin{array}{c} -0.1429x2 &+0.1429x3 &-0.2857x4 \\\\ +0.0179x2 & -0.0179x3 & +0.2857x4 \\\\ -0.0357x2 & +0.0357x3 & +0.1786x4 \\\\ +0.0476x2 & -0.0476x3 & +0.2202x4\\end{array}\\right)$$\n",
    "#### Aplicamos la  el método Gauss-Seidel: $$x^{k}=(D-L)^{-1}Ux^{(k-1)}+(D-L)^{-1}b$$\n",
    "#### $x1^{k}=-0.1429x2 +0.1429x3 -0.2857x4$\n",
    "#### $x2^{k}=+0.0179x2 -0.0179x3 +0.2857x4$\n",
    "#### $x3^{k}=-0.0357x2 +0.0357x3 +0.1786x4$\n",
    "#### $x4^{k}=+0.0476x2 -0.0476x3 +0.2202x44$\n",
    "#### $$x^{(0)}=[0,0,0,0]$$\n",
    "* Para k=1 iteración 1:\n",
    "$$x_{1} ^{1}=0,4286$$\n",
    "$$x_{2} ^{1}=-0,6786$$\n",
    "$$x_{3} ^{1}=1,1071$$\n",
    "$$x_{4} ^{1}=-0,6845$$\n",
    "#### Así calculamos sucesivamente en cada interación, pero emplearemos el programa.\n",
    "#### Procedemos a resolver empleando nuestro programa: \n"
   ]
  },
  {
   "cell_type": "code",
   "execution_count": 36,
   "id": "eb62e72e",
   "metadata": {},
   "outputs": [
    {
     "name": "stdout",
     "output_type": "stream",
     "text": [
      "Imprimimos la inversa de D-L * U \n",
      "[[ 0.     -0.1429  0.1429 -0.2857]\n",
      " [ 0.      0.0179 -0.0179  0.2857]\n",
      " [ 0.     -0.0357  0.0357  0.1786]\n",
      " [ 0.      0.0476 -0.0476  0.2202]]\n",
      "Imprimimos la inversa de D-L*B\n",
      "[ 0.4286 -0.6786  1.1071 -0.6845]\n",
      "  0 Vector inicial:  [0. 0. 0. 0.]\n",
      "  1 La iteracion da como resultado:   [ 0.4286 -0.6786  1.1071 -0.6845]\n",
      "  2 La iteracion da como resultado:   [ 0.8793 -0.906   1.0487 -0.9203]\n",
      "  3 La iteracion da como resultado:   [ 0.9708 -0.9764  1.0126 -0.9803]\n",
      "  4 La iteracion da como resultado:   [ 0.9928 -0.9942  1.0031 -0.9951]\n",
      "  5 La iteracion da como resultado:   [ 0.9982 -0.9986  1.0008 -0.9988]\n",
      "  6 La iteracion da como resultado:   [ 0.9996 -0.9996  1.0002 -0.9997]\n",
      "  7 La iteracion da como resultado:   [ 0.9999 -0.9999  1.     -0.9999]\n",
      "  8 La iteracion da como resultado:   [ 1. -1.  1. -1.]\n"
     ]
    }
   ],
   "source": [
    "#Importamos librerias:\n",
    "import numpy as np\n",
    "#Escribimos la matriz A y B:\n",
    "A=np.array([[7,1,-1,2],[1,8,0,-2],[-1,0,4,-1],[2,-2,-1,6]])\n",
    "b=np.array([3,-5,4,-3])\n",
    "k=8\n",
    "#Escribimos para ver el tamaño de la matriz:\n",
    "n=A.shape[1]\n",
    "#Escribimos la matriz identidad:\n",
    "D=np.eye(n)\n",
    "#Planteamos la matriz diagonal:\n",
    "D[np.arange(n),np.arange(n)]=A[np.arange(n),np.arange(n)]\n",
    "LU=D-A\n",
    "#Escribimos la matriz triangular superior e inferior.\n",
    "L=np.tril(LU)\n",
    "U=np.triu(LU) \n",
    "#Hallamos D-L\n",
    "DL=D-L\n",
    "DL_inv=np.linalg.inv(DL) #La inversa de D-L\n",
    "J=np.dot(DL_inv,U) #La inversa de D-l por U\n",
    "print(\"Imprimimos la inversa de D-L * U \")\n",
    "print(J.round(decimals=4))\n",
    "#Hallar la inversa de D-L *b\n",
    "T=np.dot(DL_inv,b)\n",
    "print(\"Imprimimos la inversa de D-L*B\")\n",
    "print(T.round(decimals=4))\n",
    "#Escribimos nuestra variable para almacenar las soluciones\n",
    "X=np.zeros(n)\n",
    "print(\" \",0,\"Vector inicial: \",X)\n",
    "for i in range(k):\n",
    "    X=np.dot(np.dot(DL_inv,U),X)+np.dot(DL_inv,b)\n",
    "    print(\" \", i+1,\"La iteracion da como resultado:  \",X.round(decimals=4))"
   ]
  },
  {
   "cell_type": "markdown",
   "id": "70c9d807",
   "metadata": {},
   "source": [
    "#### De esta manera, hemos comprobado el procedimiento y obtuvimos los resultados mediantes este método.\n",
    "### En definitiva, el método Gauss-Seidel converge más rápido que el de Jacobi, puesto que nos da el resultado [1,-1,1,-1] en la interación número 8."
   ]
  },
  {
   "cell_type": "markdown",
   "id": "a22844fc",
   "metadata": {},
   "source": [
    "### Método SOR:\n",
    "#### Escribimos en la forma Ax=b\n",
    "$$\\left(\\begin{array}{cccc} 7 & 1 & -1 & 2 \\\\ 1 & 8 & 0 & -2 \\\\ -1 & 0 & 4 & -1 \\\\ 2 & -2 & -1 & 6\\end{array}\\right)\n",
    "\\left(\\begin{array}{c}x_1\\\\x_2\\\\x_3\\\\x_4\\end{array}\\right)=\n",
    "\\left(\\begin{array}{c}3\\\\-5\\\\4\\\\-3\\end{array}\\right)$$\n",
    "#### Fórmula del método SOR: $$x^{k}=(D-wL)^{-1}[(1-w)D+wU]x^{(k-1)}+w(D-wL)^{-1}b $$\n",
    "#### Plateamos nuestras matrices:\n",
    "|Matriz diagonal |Matriz triangular inferior|Matriz triangular superior|\n",
    "|:---|:----|:----:|\n",
    "|$$D=\\left(\\begin{array}{cccc} 7 & 0 & 0 & 0 \\\\ 0 & 8 & 0 & 0 \\\\ 0 & 0 & 4 & 0 \\\\ 0 & 0 & 0 & 6\\end{array}\\right)$$|$$L=\\left(\\begin{array}{cccc} 0 & 0 & 0 & 0 \\\\ -1 & 0 & 0 & 0 \\\\ 1 & 0 & 0 & 0 \\\\ -2 & 2 & 1 & 0\\end{array}\\right)$$|$$U=\\left(\\begin{array}{cccc} 0 & -1 & 1 & -2 \\\\ 0 & 0 & 0 & 2 \\\\ 0 & 0 & 0 & 1 \\\\ 0 & 0 & 0 & 0\\end{array}\\right)$$|\n",
    "\n",
    "* Primera parte de la fórmula:\n",
    "\n",
    "#### Desarrollamos la inversa deD-wL: $(D-wL)^{-1}$\n",
    "$$(D-wL)^{-1}=\\left(\\begin{array}{cccc} 0.1429 & 0 & 0 & 0 \\\\ -0.0196 & 0.125 & 0 & 0 \\\\ 0.0393 & 0 & 0.25 & 0 \\\\ -0.0524 & 0.0458 & 0.0458 & 0.1667\\end{array}\\right)$$\n",
    "#### Desarrollamos $[(1-w)D+wU]$\n",
    "$$[(1-w)D+wU]=\\left(\\begin{array}{cccc} -0.7 & -1.1 & 1.1 & -2.2 \\\\ 0 & -0.8 & 0 & 2.2 \\\\ 0 & 0 & -0.4 & 1.1 \\\\ 0 & 0 & 0 & -0.6\\end{array}\\right)$$\n",
    "#### Desarrollamos: $(D-wL)^{-1}[(1-w)D+wU]x^{(k-1)}$\n",
    "$$(D-wL)^{-1}[(1-w)D+wU]x^{(k-1)}=\\left(\\begin{array}{cccc} -0.1x1 & -0.1571x2 & 0.1571x3 & -0.3143x4 \\\\  0.0138x1 & -0.0784x2 & -0.0216x3 & 0.3182x4 \\\\ -0.0275x1 & -0.0432x2 & -0.0568x3 & 0.1886x4 \\\\ 0.0367x1 & 0.021x2 & -0.076x3 & 0.1665x4\\end{array}\\right)$$\n",
    "* Segunda parte de la fórmula:\n",
    "\n",
    "#### Desarrollamos: $w(D-wL)^{-1}b$\n",
    "$$\\left(\\begin{array}{c}0.4714\\\\-0.7523\\\\1.2296\\\\-0.7733\\end{array}\\right)$$\n",
    "#### Aplicamos el método de SOR: $$x^{k}=(D-wL)^{-1}[(1-w)D+wU]x^{(k-1)}+w(D-wL)^{-1}b $$\n",
    "#### $x1^{k}=-0.1x1 -0.1571x2 +0.1571x3 -0.3143x4+0.4714$\n",
    "#### $x2^{k}= +0.0138x1 -0.0784x2 -0.0216x3 +0.3182x4-0.7523$\n",
    "#### $x3^{k}=-0.0275x1 -0.0432x2 -0.0568x3 +0.1886x4+1.2296$\n",
    "#### $x4^{k}=0.0367x1 +0.021x2 -0.076x3 +0.1665x4-0.7733$\n",
    "#### $$x^{(0)}=[0,0,0,0]$$\n",
    "* Para k=1 iteración 1:\n",
    "$$x_{1} ^{1}=0.4714$$\n",
    "$$x_{2} ^{1}=-0.7523$$\n",
    "$$x_{3} ^{1}=1.2296$$\n",
    "$$x_{4} ^{1}=-0.7733$$\n",
    "#### Así calculamos sucesivamente en cada interación, pero emplearemos el programa.\n",
    "#### Procedemos a resolver empleando nuestro programa: "
   ]
  },
  {
   "cell_type": "code",
   "execution_count": 48,
   "id": "78574b02",
   "metadata": {},
   "outputs": [
    {
     "name": "stdout",
     "output_type": "stream",
     "text": [
      "Imprimimos la inversa de D-wL\n",
      "[[ 0.1429  0.      0.      0.    ]\n",
      " [-0.0196  0.125   0.      0.    ]\n",
      " [ 0.0393  0.      0.25    0.    ]\n",
      " [-0.0524  0.0458  0.0458  0.1667]]\n",
      "Imprimimos [(1-w)D+wU]\n",
      "[[-0.7 -1.1  1.1 -2.2]\n",
      " [ 0.  -0.8  0.   2.2]\n",
      " [ 0.   0.  -0.4  1.1]\n",
      " [ 0.   0.   0.  -0.6]]\n",
      "Imprimimos (D-wL)^{-1}[(1-w)D+wU]x^{(k-1)}\n",
      "[[-0.1    -0.1571  0.1571 -0.3143]\n",
      " [ 0.0138 -0.0784 -0.0216  0.3182]\n",
      " [-0.0275 -0.0432 -0.0568  0.1886]\n",
      " [ 0.0367  0.021  -0.076   0.1665]]\n",
      "Imprimimos w(D-wL)^{-1}b\n",
      "[ 0.4714 -0.7523  1.2296 -0.7733]\n",
      "Desarrollamos mediante el método SOR\n",
      "  0 Vector inicial:  [0. 0. 0. 0.]\n",
      "  1 La iteracion da como resultado:   [ 0.4714 -0.7523  1.2296 -0.7733]\n",
      "  2 La iteracion da como resultado:   [ 0.9788 -0.9595  1.0335 -0.9939]\n",
      "  3 La iteracion da como resultado:   [ 0.9991 -1.0022  0.9981 -1.0015]\n",
      "  4 La iteracion da como resultado:   [ 1.0006 -1.0003  1.     -1.0002]\n",
      "  5 La iteracion da como resultado:   [ 1. -1.  1. -1.]\n"
     ]
    }
   ],
   "source": [
    "#Importamos librerias:\n",
    "import numpy as np\n",
    "#Escribimos la matriz A y B:\n",
    "A=np.array([[7,1,-1,2],[1,8,0,-2],[-1,0,4,-1],[2,-2,-1,6]])\n",
    "b=np.array([3,-5,4,-3])\n",
    "k=5\n",
    "w=1.1 #Añadimos el valor de w\n",
    "#Escribimos para ver el tamaño de la matriz:\n",
    "n=A.shape[1]\n",
    "#Escribimos la matriz identidad:\n",
    "D=np.eye(n)\n",
    "#Planteamos la matriz diagonal:\n",
    "D[np.arange(n),np.arange(n)]=A[np.arange(n),np.arange(n)]\n",
    "LU=D-A\n",
    "#Escribimos la matriz triangular superior e inferior.\n",
    "L=np.tril(LU)\n",
    "U=np.triu(LU) \n",
    "#Calculamos D-wL\n",
    "R=D-w*L\n",
    "R_inv=np.linalg.inv(R) #la inversa de D-wL\n",
    "print(\"Imprimimos la inversa de D-wL\")\n",
    "print(R_inv.round(decimals=4))\n",
    "#Continuamos el desarrollo de paréntesis:[(1-w)D+wU]\n",
    "P=(1-w)*D+w*U\n",
    "print(\"Imprimimos [(1-w)D+wU]\")\n",
    "print(P)\n",
    "#Multiplicamos R_inv*P\n",
    "Q=np.dot(R_inv,P)\n",
    "print(\"Imprimimos (D-wL)^{-1}[(1-w)D+wU]x^{(k-1)}\")\n",
    "print(Q.round(decimals=4))\n",
    "#Desarrollar w(D-wL)^{-1}b\n",
    "T=w*np.dot(R_inv,b)\n",
    "print(\"Imprimimos w(D-wL)^{-1}b\")\n",
    "print(T.round(decimals=4))\n",
    "\n",
    "#Escribimos nuestra variable para almacenar las soluciones\n",
    "print(\"Desarrollamos mediante el método SOR\")\n",
    "X=np.zeros(n)\n",
    "print(\" \",0,\"Vector inicial: \",X)\n",
    "for i in range(k):\n",
    "    X=np.dot(np.dot(R_inv,(1-w)*D+w*U),X)+w*np.dot(R_inv,b)\n",
    "    print(\" \", i+1,\"La iteracion da como resultado:  \",X.round(decimals=4))"
   ]
  },
  {
   "cell_type": "markdown",
   "id": "74ca5b8e",
   "metadata": {},
   "source": [
    "#### Con el método SOR se converge más rápido que con el método Gauss-Seidel, puesto que obtuvo la respuesta [ 1. -1.  1. -1.] en 5 interaciones. \n",
    "### Comparación del resultado si la solución exacta es $x = (1, −1, 1, −1)^T$:\n",
    "#### Método Jacobi: 15 iteración obtuvo la respuesta\n",
    "#### Método Gauss-Seidel: 8 interación obtuvo la respuesta\n",
    "#### Método SOR: 5 interacion obtuvo la respuesta:\n",
    "#### Por lo tanto, el método SOR converge e itera más rápido que todos los métodos con 5 iteraciones, seguido del método Gauss-Seidel con 8 iteraciones y al final el método Jacobi con 15 iteraciones. "
   ]
  },
  {
   "cell_type": "markdown",
   "id": "832528c9",
   "metadata": {},
   "source": [
    "### 4. Programe un algoritmo para encontrar la norma de Frobenius para una matriz cuadrada de cualquier dimensión.\n",
    "#### Norma de Frobenius: $\\text{Es la raíz cuadrada de la suma de los cuadrados absolutos de sus elementos}$\n",
    "#### Fórmula: \n",
    "$$\\parallel{A}\\parallel_{F}=\\sqrt{\\sum\\limits_{i=1}^{m}\\sum\\limits_{j=1}^{n}\\mid{a_{ij}}\\mid^{2}}$$\n",
    "#### Emplearemos como ejemplo la siguiente matriz cuadrada de dimensión 4x4 para determinar la norma de Frobenius:\n",
    "$$A=\\left(\\begin{array}{cccc} 1 & 2 & 3 & 4 \\\\ 0 & 0 & -1 & 2\\\\ 0& 2 & 3 & -4 \\\\ 2 & 1 & 0 & 0\\end{array}\\right)$$\n",
    "#### Desarrollamos:\n",
    "$$\\parallel{A}\\parallel_{F}=\\sqrt{(1)^2+(2)^2+(3)^2+(4)^2+(0)^2+(0)^2+(-1)^2+(2)^2+(0)^2+(2)^2+(3)^2+(-4)^2+(2)^2+(1)^2+(0)^2+(0)^2}$$\n",
    "$$\\parallel{A}\\parallel_{F}=\\sqrt{69}$$\n",
    "$$\\parallel{A}\\parallel_{F}=8.306623863$$ \n",
    "#### A continuación, programaremos un algortimo para encontrar la norma de Frobenius de una matriz cuadrada de cualquier dimensión y lo comprobaremos mediante nuestro ejemplo"
   ]
  },
  {
   "cell_type": "code",
   "execution_count": 52,
   "id": "4538bb80",
   "metadata": {},
   "outputs": [
    {
     "name": "stdout",
     "output_type": "stream",
     "text": [
      "El resultado de la norma de Frobenius de la matriz es:  8.306623862918075\n"
     ]
    }
   ],
   "source": [
    "#Importamos librerias\n",
    "import numpy as np\n",
    "from math import sqrt\n",
    "\n",
    "#Ingresamos la matriz:\n",
    "#En esta parte añadimos la matriz cuadrada de cualquier dimensión\n",
    "A=np.array([[1,2,3,4],[0,0,-1,2],[0,2,3,-4],[2,1,0,0]])#Aquí llenamos la matriz que deseemos de la dimesión que necesitemos, en nuestro ejemplo de 4x4\n",
    "#Vamos a averiguar el número de filas y columnas:\n",
    "filas=A.shape[0]\n",
    "columnas=A.shape[1]\n",
    "#Realizamos una suma de la raiz y lo almacenamos en una variable\n",
    "suma_raiz=0\n",
    "\n",
    "for i in range(filas):\n",
    "    for j in range(columnas):\n",
    "        suma_raiz+=pow(A[i][j],2) #eleva al cuadrado cada elemento\n",
    "    #Ahora sacamos al raíz cuadrada de cada elemento:\n",
    "    X=sqrt(suma_raiz)\n",
    "print(\"El resultado de la norma de Frobenius de la matriz es: \", X)"
   ]
  },
  {
   "cell_type": "markdown",
   "id": "2d43b551",
   "metadata": {},
   "source": [
    "#### De esta manera hemos comprobado los resultados de la norma de Frobenius en nuestro ejemplo y en el programa como 8.306623862918075\n",
    "$\\text{Muchas gracias}$\n"
   ]
  }
 ],
 "metadata": {
  "kernelspec": {
   "display_name": "Python 3",
   "language": "python",
   "name": "python3"
  },
  "language_info": {
   "codemirror_mode": {
    "name": "ipython",
    "version": 3
   },
   "file_extension": ".py",
   "mimetype": "text/x-python",
   "name": "python",
   "nbconvert_exporter": "python",
   "pygments_lexer": "ipython3",
   "version": "3.8.8"
  }
 },
 "nbformat": 4,
 "nbformat_minor": 5
}
